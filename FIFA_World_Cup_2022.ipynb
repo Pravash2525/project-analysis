{
 "cells": [
  {
   "cell_type": "markdown",
   "id": "76e43b19",
   "metadata": {},
   "source": [
    "## Load Libraries"
   ]
  },
  {
   "cell_type": "code",
   "execution_count": 17,
   "id": "e5d7eff1",
   "metadata": {},
   "outputs": [],
   "source": [
    "import numpy as np\n",
    "import pandas as pd\n",
    "import matplotlib.pyplot as plt\n",
    "import seaborn as sns\n",
    "\n",
    "#custom palette\n",
    "colors = [\"#66C8D5\",\"#00478E\", \"#E1EAA7\",  \"#84A266\", \"#F25C5C\"]\n",
    "sns.set_palette(sns.color_palette(colors))"
   ]
  },
  {
   "cell_type": "code",
   "execution_count": 18,
   "id": "cabe6837",
   "metadata": {},
   "outputs": [],
   "source": [
    "pd.read_csv?"
   ]
  },
  {
   "cell_type": "code",
   "execution_count": 2,
   "id": "f612c7c0",
   "metadata": {},
   "outputs": [
    {
     "data": {
      "text/html": [
       "<div>\n",
       "<style scoped>\n",
       "    .dataframe tbody tr th:only-of-type {\n",
       "        vertical-align: middle;\n",
       "    }\n",
       "\n",
       "    .dataframe tbody tr th {\n",
       "        vertical-align: top;\n",
       "    }\n",
       "\n",
       "    .dataframe thead th {\n",
       "        text-align: right;\n",
       "    }\n",
       "</style>\n",
       "<table border=\"1\" class=\"dataframe\">\n",
       "  <thead>\n",
       "    <tr style=\"text-align: right;\">\n",
       "      <th></th>\n",
       "      <th>date</th>\n",
       "      <th>home_team</th>\n",
       "      <th>away_team</th>\n",
       "      <th>home_team_continent</th>\n",
       "      <th>away_team_continent</th>\n",
       "      <th>home_team_fifa_rank</th>\n",
       "      <th>away_team_fifa_rank</th>\n",
       "      <th>home_team_total_fifa_points</th>\n",
       "      <th>away_team_total_fifa_points</th>\n",
       "      <th>home_team_score</th>\n",
       "      <th>...</th>\n",
       "      <th>shoot_out</th>\n",
       "      <th>home_team_result</th>\n",
       "      <th>home_team_goalkeeper_score</th>\n",
       "      <th>away_team_goalkeeper_score</th>\n",
       "      <th>home_team_mean_defense_score</th>\n",
       "      <th>home_team_mean_offense_score</th>\n",
       "      <th>home_team_mean_midfield_score</th>\n",
       "      <th>away_team_mean_defense_score</th>\n",
       "      <th>away_team_mean_offense_score</th>\n",
       "      <th>away_team_mean_midfield_score</th>\n",
       "    </tr>\n",
       "  </thead>\n",
       "  <tbody>\n",
       "    <tr>\n",
       "      <th>0</th>\n",
       "      <td>1993-08-08</td>\n",
       "      <td>Bolivia</td>\n",
       "      <td>Uruguay</td>\n",
       "      <td>South America</td>\n",
       "      <td>South America</td>\n",
       "      <td>59</td>\n",
       "      <td>22</td>\n",
       "      <td>0</td>\n",
       "      <td>0</td>\n",
       "      <td>3</td>\n",
       "      <td>...</td>\n",
       "      <td>No</td>\n",
       "      <td>Win</td>\n",
       "      <td>NaN</td>\n",
       "      <td>NaN</td>\n",
       "      <td>NaN</td>\n",
       "      <td>NaN</td>\n",
       "      <td>NaN</td>\n",
       "      <td>NaN</td>\n",
       "      <td>NaN</td>\n",
       "      <td>NaN</td>\n",
       "    </tr>\n",
       "    <tr>\n",
       "      <th>1</th>\n",
       "      <td>1993-08-08</td>\n",
       "      <td>Brazil</td>\n",
       "      <td>Mexico</td>\n",
       "      <td>South America</td>\n",
       "      <td>North America</td>\n",
       "      <td>8</td>\n",
       "      <td>14</td>\n",
       "      <td>0</td>\n",
       "      <td>0</td>\n",
       "      <td>1</td>\n",
       "      <td>...</td>\n",
       "      <td>No</td>\n",
       "      <td>Draw</td>\n",
       "      <td>NaN</td>\n",
       "      <td>NaN</td>\n",
       "      <td>NaN</td>\n",
       "      <td>NaN</td>\n",
       "      <td>NaN</td>\n",
       "      <td>NaN</td>\n",
       "      <td>NaN</td>\n",
       "      <td>NaN</td>\n",
       "    </tr>\n",
       "    <tr>\n",
       "      <th>2</th>\n",
       "      <td>1993-08-08</td>\n",
       "      <td>Ecuador</td>\n",
       "      <td>Venezuela</td>\n",
       "      <td>South America</td>\n",
       "      <td>South America</td>\n",
       "      <td>35</td>\n",
       "      <td>94</td>\n",
       "      <td>0</td>\n",
       "      <td>0</td>\n",
       "      <td>5</td>\n",
       "      <td>...</td>\n",
       "      <td>No</td>\n",
       "      <td>Win</td>\n",
       "      <td>NaN</td>\n",
       "      <td>NaN</td>\n",
       "      <td>NaN</td>\n",
       "      <td>NaN</td>\n",
       "      <td>NaN</td>\n",
       "      <td>NaN</td>\n",
       "      <td>NaN</td>\n",
       "      <td>NaN</td>\n",
       "    </tr>\n",
       "    <tr>\n",
       "      <th>3</th>\n",
       "      <td>1993-08-08</td>\n",
       "      <td>Guinea</td>\n",
       "      <td>Sierra Leone</td>\n",
       "      <td>Africa</td>\n",
       "      <td>Africa</td>\n",
       "      <td>65</td>\n",
       "      <td>86</td>\n",
       "      <td>0</td>\n",
       "      <td>0</td>\n",
       "      <td>1</td>\n",
       "      <td>...</td>\n",
       "      <td>No</td>\n",
       "      <td>Win</td>\n",
       "      <td>NaN</td>\n",
       "      <td>NaN</td>\n",
       "      <td>NaN</td>\n",
       "      <td>NaN</td>\n",
       "      <td>NaN</td>\n",
       "      <td>NaN</td>\n",
       "      <td>NaN</td>\n",
       "      <td>NaN</td>\n",
       "    </tr>\n",
       "    <tr>\n",
       "      <th>4</th>\n",
       "      <td>1993-08-08</td>\n",
       "      <td>Paraguay</td>\n",
       "      <td>Argentina</td>\n",
       "      <td>South America</td>\n",
       "      <td>South America</td>\n",
       "      <td>67</td>\n",
       "      <td>5</td>\n",
       "      <td>0</td>\n",
       "      <td>0</td>\n",
       "      <td>1</td>\n",
       "      <td>...</td>\n",
       "      <td>No</td>\n",
       "      <td>Lose</td>\n",
       "      <td>NaN</td>\n",
       "      <td>NaN</td>\n",
       "      <td>NaN</td>\n",
       "      <td>NaN</td>\n",
       "      <td>NaN</td>\n",
       "      <td>NaN</td>\n",
       "      <td>NaN</td>\n",
       "      <td>NaN</td>\n",
       "    </tr>\n",
       "  </tbody>\n",
       "</table>\n",
       "<p>5 rows × 25 columns</p>\n",
       "</div>"
      ],
      "text/plain": [
       "        date home_team     away_team home_team_continent away_team_continent  \\\n",
       "0 1993-08-08   Bolivia       Uruguay       South America       South America   \n",
       "1 1993-08-08    Brazil        Mexico       South America       North America   \n",
       "2 1993-08-08   Ecuador     Venezuela       South America       South America   \n",
       "3 1993-08-08    Guinea  Sierra Leone              Africa              Africa   \n",
       "4 1993-08-08  Paraguay     Argentina       South America       South America   \n",
       "\n",
       "   home_team_fifa_rank  away_team_fifa_rank  home_team_total_fifa_points  \\\n",
       "0                   59                   22                            0   \n",
       "1                    8                   14                            0   \n",
       "2                   35                   94                            0   \n",
       "3                   65                   86                            0   \n",
       "4                   67                    5                            0   \n",
       "\n",
       "   away_team_total_fifa_points  home_team_score  ...  shoot_out  \\\n",
       "0                            0                3  ...         No   \n",
       "1                            0                1  ...         No   \n",
       "2                            0                5  ...         No   \n",
       "3                            0                1  ...         No   \n",
       "4                            0                1  ...         No   \n",
       "\n",
       "  home_team_result home_team_goalkeeper_score away_team_goalkeeper_score  \\\n",
       "0              Win                        NaN                        NaN   \n",
       "1             Draw                        NaN                        NaN   \n",
       "2              Win                        NaN                        NaN   \n",
       "3              Win                        NaN                        NaN   \n",
       "4             Lose                        NaN                        NaN   \n",
       "\n",
       "   home_team_mean_defense_score home_team_mean_offense_score  \\\n",
       "0                           NaN                          NaN   \n",
       "1                           NaN                          NaN   \n",
       "2                           NaN                          NaN   \n",
       "3                           NaN                          NaN   \n",
       "4                           NaN                          NaN   \n",
       "\n",
       "  home_team_mean_midfield_score  away_team_mean_defense_score  \\\n",
       "0                           NaN                           NaN   \n",
       "1                           NaN                           NaN   \n",
       "2                           NaN                           NaN   \n",
       "3                           NaN                           NaN   \n",
       "4                           NaN                           NaN   \n",
       "\n",
       "   away_team_mean_offense_score  away_team_mean_midfield_score  \n",
       "0                           NaN                            NaN  \n",
       "1                           NaN                            NaN  \n",
       "2                           NaN                            NaN  \n",
       "3                           NaN                            NaN  \n",
       "4                           NaN                            NaN  \n",
       "\n",
       "[5 rows x 25 columns]"
      ]
     },
     "execution_count": 2,
     "metadata": {},
     "output_type": "execute_result"
    }
   ],
   "source": [
    "df = pd.read_csv(\"Dataset/international_matches.csv\", parse_dates = ['date'])\n",
    "\n",
    "df.head()"
   ]
  },
  {
   "cell_type": "markdown",
   "id": "4c84cb6a",
   "metadata": {},
   "source": [
    "## Data Analysis \n",
    "\n",
    "FIFA updates the ranking of teams multiple times a year based on the team's performance in matches. Each team is awarded a certain number of points based on wheteher the won or drawn, the importance of the match and the strength of the opposing team. The overall number of points determines the FIFA rank of the team.\n",
    "\n",
    "If we want to know the most recent rank of the team, we must focus on the most recent game each team played...\n"
   ]
  },
  {
   "cell_type": "markdown",
   "id": "bc79e491",
   "metadata": {},
   "source": [
    "### What are the 10 strongest teams?"
   ]
  },
  {
   "cell_type": "code",
   "execution_count": 3,
   "id": "13291b4e",
   "metadata": {},
   "outputs": [
    {
     "name": "stderr",
     "output_type": "stream",
     "text": [
      "C:\\Users\\prava\\AppData\\Local\\Temp\\ipykernel_10676\\2045936392.py:4: FutureWarning: The frame.append method is deprecated and will be removed from pandas in a future version. Use pandas.concat instead.\n",
      "  fifa_rank = home.append(away)\n"
     ]
    },
    {
     "data": {
      "text/html": [
       "<div>\n",
       "<style scoped>\n",
       "    .dataframe tbody tr th:only-of-type {\n",
       "        vertical-align: middle;\n",
       "    }\n",
       "\n",
       "    .dataframe tbody tr th {\n",
       "        vertical-align: top;\n",
       "    }\n",
       "\n",
       "    .dataframe thead th {\n",
       "        text-align: right;\n",
       "    }\n",
       "</style>\n",
       "<table border=\"1\" class=\"dataframe\">\n",
       "  <thead>\n",
       "    <tr style=\"text-align: right;\">\n",
       "      <th></th>\n",
       "      <th>date</th>\n",
       "      <th>top_team</th>\n",
       "      <th>top_rank</th>\n",
       "    </tr>\n",
       "  </thead>\n",
       "  <tbody>\n",
       "    <tr>\n",
       "      <th>23760</th>\n",
       "      <td>2022-06-06</td>\n",
       "      <td>Brazil</td>\n",
       "      <td>1</td>\n",
       "    </tr>\n",
       "    <tr>\n",
       "      <th>23909</th>\n",
       "      <td>2022-06-14</td>\n",
       "      <td>Belgium</td>\n",
       "      <td>2</td>\n",
       "    </tr>\n",
       "    <tr>\n",
       "      <th>23885</th>\n",
       "      <td>2022-06-13</td>\n",
       "      <td>France</td>\n",
       "      <td>3</td>\n",
       "    </tr>\n",
       "    <tr>\n",
       "      <th>23741</th>\n",
       "      <td>2022-06-05</td>\n",
       "      <td>Argentina</td>\n",
       "      <td>4</td>\n",
       "    </tr>\n",
       "    <tr>\n",
       "      <th>23906</th>\n",
       "      <td>2022-06-14</td>\n",
       "      <td>England</td>\n",
       "      <td>5</td>\n",
       "    </tr>\n",
       "    <tr>\n",
       "      <th>23907</th>\n",
       "      <td>2022-06-14</td>\n",
       "      <td>Italy</td>\n",
       "      <td>6</td>\n",
       "    </tr>\n",
       "    <tr>\n",
       "      <th>23866</th>\n",
       "      <td>2022-06-12</td>\n",
       "      <td>Spain</td>\n",
       "      <td>7</td>\n",
       "    </tr>\n",
       "    <tr>\n",
       "      <th>23867</th>\n",
       "      <td>2022-06-12</td>\n",
       "      <td>Portugal</td>\n",
       "      <td>8</td>\n",
       "    </tr>\n",
       "    <tr>\n",
       "      <th>23903</th>\n",
       "      <td>2022-06-14</td>\n",
       "      <td>Mexico</td>\n",
       "      <td>9</td>\n",
       "    </tr>\n",
       "    <tr>\n",
       "      <th>23908</th>\n",
       "      <td>2022-06-14</td>\n",
       "      <td>Netherlands</td>\n",
       "      <td>10</td>\n",
       "    </tr>\n",
       "  </tbody>\n",
       "</table>\n",
       "</div>"
      ],
      "text/plain": [
       "            date     top_team  top_rank\n",
       "23760 2022-06-06       Brazil         1\n",
       "23909 2022-06-14      Belgium         2\n",
       "23885 2022-06-13       France         3\n",
       "23741 2022-06-05    Argentina         4\n",
       "23906 2022-06-14      England         5\n",
       "23907 2022-06-14        Italy         6\n",
       "23866 2022-06-12        Spain         7\n",
       "23867 2022-06-12     Portugal         8\n",
       "23903 2022-06-14       Mexico         9\n",
       "23908 2022-06-14  Netherlands        10"
      ]
     },
     "execution_count": 3,
     "metadata": {},
     "output_type": "execute_result"
    }
   ],
   "source": [
    "fifa_rank = df[['date', 'home_team', 'away_team', 'home_team_fifa_rank', 'away_team_fifa_rank']]\n",
    "home = fifa_rank[['date', 'home_team','home_team_fifa_rank']].rename(columns = {'home_team': 'top_team', 'home_team_fifa_rank' : 'top_rank'})\n",
    "away = fifa_rank[['date', 'away_team','away_team_fifa_rank']].rename(columns = {'away_team': 'top_team', 'away_team_fifa_rank' : 'top_rank'})\n",
    "fifa_rank = home.append(away)\n",
    "\n",
    "#select for each country the latest match\n",
    "fifa_rank  = fifa_rank.sort_values(['top_team', 'date'], ascending=[True, False])\n",
    "fifa_rank['row_number'] = fifa_rank.groupby('top_team').cumcount()+1\n",
    "fifa_rank_top = fifa_rank[fifa_rank['row_number']==1].drop('row_number',axis=1).nsmallest(10, 'top_rank')\n",
    "\n",
    "#let's see the 10 strongest teams\n",
    "fifa_rank_top"
   ]
  },
  {
   "cell_type": "code",
   "execution_count": 4,
   "id": "7fd58936",
   "metadata": {},
   "outputs": [
    {
     "data": {
      "image/png": "[encoded data removed]",
      "text/plain": [
       "<Figure size 1440x720 with 1 Axes>"
      ]
     },
     "metadata": {
      "needs_background": "light"
     },
     "output_type": "display_data"
    }
   ],
   "source": [
    "plt.figure(figsize=(20,10))\n",
    "plt.title(\"Fifa ranking of all the team\")\n",
    "sns.barplot(data=fifa_rank_top, x='top_rank', y='top_team')\n",
    "plt.show()"
   ]
  },
  {
   "cell_type": "markdown",
   "id": "4696462d",
   "metadata": {},
   "source": [
    "<img src = \"Image/brazil_team.png\" >\n",
    "\n",
    "    \n",
    " As we can see the brazil team is the highest ranking team in the table  "
   ]
  },
  {
   "cell_type": "markdown",
   "id": "959ca7bd",
   "metadata": {},
   "source": [
    "# Now finding the top 10 team which have the strongest _offense, defense and midfield_ teams"
   ]
  },
  {
   "cell_type": "markdown",
   "id": "9b4ad357",
   "metadata": {},
   "source": [
    "It is often said that the most important position in soccer is the striker. Without the striker, the team would score fewer goals which reduces the chances of the team winning the match."
   ]
  },
  {
   "cell_type": "code",
   "execution_count": 5,
   "id": "d8b1985f",
   "metadata": {},
   "outputs": [
    {
     "name": "stderr",
     "output_type": "stream",
     "text": [
      "C:\\Users\\prava\\AppData\\Local\\Temp\\ipykernel_10676\\31575069.py:5: FutureWarning: The frame.append method is deprecated and will be removed from pandas in a future version. Use pandas.concat instead.\n",
      "  offense  = home.append(away)\n"
     ]
    },
    {
     "data": {
      "text/html": [
       "<div>\n",
       "<style scoped>\n",
       "    .dataframe tbody tr th:only-of-type {\n",
       "        vertical-align: middle;\n",
       "    }\n",
       "\n",
       "    .dataframe tbody tr th {\n",
       "        vertical-align: top;\n",
       "    }\n",
       "\n",
       "    .dataframe thead th {\n",
       "        text-align: right;\n",
       "    }\n",
       "</style>\n",
       "<table border=\"1\" class=\"dataframe\">\n",
       "  <thead>\n",
       "    <tr style=\"text-align: right;\">\n",
       "      <th></th>\n",
       "      <th>date</th>\n",
       "      <th>team</th>\n",
       "      <th>offense_score</th>\n",
       "    </tr>\n",
       "  </thead>\n",
       "  <tbody>\n",
       "    <tr>\n",
       "      <th>23741</th>\n",
       "      <td>2022-06-05</td>\n",
       "      <td>Argentina</td>\n",
       "      <td>89.0</td>\n",
       "    </tr>\n",
       "    <tr>\n",
       "      <th>23885</th>\n",
       "      <td>2022-06-13</td>\n",
       "      <td>France</td>\n",
       "      <td>88.3</td>\n",
       "    </tr>\n",
       "    <tr>\n",
       "      <th>23906</th>\n",
       "      <td>2022-06-14</td>\n",
       "      <td>England</td>\n",
       "      <td>88.0</td>\n",
       "    </tr>\n",
       "    <tr>\n",
       "      <th>23760</th>\n",
       "      <td>2022-06-06</td>\n",
       "      <td>Brazil</td>\n",
       "      <td>86.3</td>\n",
       "    </tr>\n",
       "    <tr>\n",
       "      <th>23867</th>\n",
       "      <td>2022-06-12</td>\n",
       "      <td>Portugal</td>\n",
       "      <td>86.0</td>\n",
       "    </tr>\n",
       "    <tr>\n",
       "      <th>23909</th>\n",
       "      <td>2022-06-14</td>\n",
       "      <td>Belgium</td>\n",
       "      <td>85.7</td>\n",
       "    </tr>\n",
       "    <tr>\n",
       "      <th>23907</th>\n",
       "      <td>2022-06-14</td>\n",
       "      <td>Italy</td>\n",
       "      <td>85.3</td>\n",
       "    </tr>\n",
       "    <tr>\n",
       "      <th>23866</th>\n",
       "      <td>2022-06-12</td>\n",
       "      <td>Spain</td>\n",
       "      <td>85.0</td>\n",
       "    </tr>\n",
       "    <tr>\n",
       "      <th>23909</th>\n",
       "      <td>2022-06-14</td>\n",
       "      <td>Poland</td>\n",
       "      <td>84.7</td>\n",
       "    </tr>\n",
       "    <tr>\n",
       "      <th>23862</th>\n",
       "      <td>2022-06-11</td>\n",
       "      <td>Uruguay</td>\n",
       "      <td>84.3</td>\n",
       "    </tr>\n",
       "  </tbody>\n",
       "</table>\n",
       "</div>"
      ],
      "text/plain": [
       "            date       team  offense_score\n",
       "23741 2022-06-05  Argentina           89.0\n",
       "23885 2022-06-13     France           88.3\n",
       "23906 2022-06-14    England           88.0\n",
       "23760 2022-06-06     Brazil           86.3\n",
       "23867 2022-06-12   Portugal           86.0\n",
       "23909 2022-06-14    Belgium           85.7\n",
       "23907 2022-06-14      Italy           85.3\n",
       "23866 2022-06-12      Spain           85.0\n",
       "23909 2022-06-14     Poland           84.7\n",
       "23862 2022-06-11    Uruguay           84.3"
      ]
     },
     "execution_count": 5,
     "metadata": {},
     "output_type": "execute_result"
    }
   ],
   "source": [
    "#let's re-shape the data a bit\n",
    "offense = df[['date', 'home_team', 'away_team', 'home_team_mean_offense_score', 'away_team_mean_offense_score']]\n",
    "home = offense [['date', 'home_team','home_team_mean_offense_score']].rename(columns = {'home_team': 'team', 'home_team_mean_offense_score' : 'offense_score'})\n",
    "away = offense [['date', 'away_team','away_team_mean_offense_score']].rename(columns = {'away_team': 'team', 'away_team_mean_offense_score' : 'offense_score'})\n",
    "offense  = home.append(away)\n",
    "\n",
    "#select for each country the latest match\n",
    "offense   = offense .sort_values(['team', 'date'], ascending=[True, False])\n",
    "offense ['row_number'] = offense .groupby('team').cumcount()+1\n",
    "offense_top = offense [offense ['row_number']==1].drop('row_number',axis=1).nlargest(10, 'offense_score')\n",
    "\n",
    "# Let's see the top 10 strongest offense team\n",
    "offense_top"
   ]
  },
  {
   "cell_type": "code",
   "execution_count": 6,
   "id": "434dd12e",
   "metadata": {},
   "outputs": [
    {
     "data": {
      "image/png": "[encoded data removed]",
      "text/plain": [
       "<Figure size 720x432 with 1 Axes>"
      ]
     },
     "metadata": {
      "needs_background": "light"
     },
     "output_type": "display_data"
    }
   ],
   "source": [
    "#plot the teams with the strongest offense players\n",
    "fig, axes = plt.subplots(1,1,  figsize=(10, 6))\n",
    "ax = sns.barplot(data = offense_top, y = 'team', x = 'offense_score', orientation = 'horizontal', color = \"#66C8D5\")\n",
    "ax.set_title ('Teams with the strongest offense team', fontsize = 15)\n",
    "ax.set(xlabel = '', ylabel = '')\n",
    "\n",
    "plt.show()"
   ]
  },
  {
   "cell_type": "markdown",
   "id": "62b8d726",
   "metadata": {},
   "source": [
    "<img src = 'Image/argentina_team.png' >"
   ]
  },
  {
   "cell_type": "code",
   "execution_count": 7,
   "id": "8d85a429",
   "metadata": {},
   "outputs": [
    {
     "name": "stderr",
     "output_type": "stream",
     "text": [
      "C:\\Users\\prava\\AppData\\Local\\Temp\\ipykernel_10676\\4285243958.py:4: FutureWarning: The frame.append method is deprecated and will be removed from pandas in a future version. Use pandas.concat instead.\n",
      "  defense  = home.append(away)\n"
     ]
    },
    {
     "data": {
      "text/html": [
       "<div>\n",
       "<style scoped>\n",
       "    .dataframe tbody tr th:only-of-type {\n",
       "        vertical-align: middle;\n",
       "    }\n",
       "\n",
       "    .dataframe tbody tr th {\n",
       "        vertical-align: top;\n",
       "    }\n",
       "\n",
       "    .dataframe thead th {\n",
       "        text-align: right;\n",
       "    }\n",
       "</style>\n",
       "<table border=\"1\" class=\"dataframe\">\n",
       "  <thead>\n",
       "    <tr style=\"text-align: right;\">\n",
       "      <th></th>\n",
       "      <th>date</th>\n",
       "      <th>team</th>\n",
       "      <th>defense_score</th>\n",
       "    </tr>\n",
       "  </thead>\n",
       "  <tbody>\n",
       "    <tr>\n",
       "      <th>23866</th>\n",
       "      <td>2022-06-12</td>\n",
       "      <td>Spain</td>\n",
       "      <td>86.5</td>\n",
       "    </tr>\n",
       "    <tr>\n",
       "      <th>23908</th>\n",
       "      <td>2022-06-14</td>\n",
       "      <td>Netherlands</td>\n",
       "      <td>85.2</td>\n",
       "    </tr>\n",
       "    <tr>\n",
       "      <th>23867</th>\n",
       "      <td>2022-06-12</td>\n",
       "      <td>Portugal</td>\n",
       "      <td>85.2</td>\n",
       "    </tr>\n",
       "    <tr>\n",
       "      <th>23906</th>\n",
       "      <td>2022-06-14</td>\n",
       "      <td>England</td>\n",
       "      <td>85.0</td>\n",
       "    </tr>\n",
       "    <tr>\n",
       "      <th>23760</th>\n",
       "      <td>2022-06-06</td>\n",
       "      <td>Brazil</td>\n",
       "      <td>84.8</td>\n",
       "    </tr>\n",
       "    <tr>\n",
       "      <th>23885</th>\n",
       "      <td>2022-06-13</td>\n",
       "      <td>France</td>\n",
       "      <td>84.2</td>\n",
       "    </tr>\n",
       "    <tr>\n",
       "      <th>23907</th>\n",
       "      <td>2022-06-14</td>\n",
       "      <td>Italy</td>\n",
       "      <td>84.2</td>\n",
       "    </tr>\n",
       "    <tr>\n",
       "      <th>23907</th>\n",
       "      <td>2022-06-14</td>\n",
       "      <td>Germany</td>\n",
       "      <td>84.0</td>\n",
       "    </tr>\n",
       "    <tr>\n",
       "      <th>23741</th>\n",
       "      <td>2022-06-05</td>\n",
       "      <td>Argentina</td>\n",
       "      <td>82.2</td>\n",
       "    </tr>\n",
       "    <tr>\n",
       "      <th>23879</th>\n",
       "      <td>2022-06-13</td>\n",
       "      <td>Morocco</td>\n",
       "      <td>81.2</td>\n",
       "    </tr>\n",
       "  </tbody>\n",
       "</table>\n",
       "</div>"
      ],
      "text/plain": [
       "            date         team  defense_score\n",
       "23866 2022-06-12        Spain           86.5\n",
       "23908 2022-06-14  Netherlands           85.2\n",
       "23867 2022-06-12     Portugal           85.2\n",
       "23906 2022-06-14      England           85.0\n",
       "23760 2022-06-06       Brazil           84.8\n",
       "23885 2022-06-13       France           84.2\n",
       "23907 2022-06-14        Italy           84.2\n",
       "23907 2022-06-14      Germany           84.0\n",
       "23741 2022-06-05    Argentina           82.2\n",
       "23879 2022-06-13      Morocco           81.2"
      ]
     },
     "execution_count": 7,
     "metadata": {},
     "output_type": "execute_result"
    }
   ],
   "source": [
    "defense = df[['date', 'home_team', 'away_team', 'home_team_mean_defense_score', 'away_team_mean_defense_score']]\n",
    "home = defense [['date', 'home_team','home_team_mean_defense_score']].rename(columns = {'home_team': 'team', 'home_team_mean_defense_score' : 'defense_score'})\n",
    "away = defense [['date', 'away_team','away_team_mean_defense_score']].rename(columns = {'away_team': 'team', 'away_team_mean_defense_score' : 'defense_score'})\n",
    "defense  = home.append(away)\n",
    "# offense\n",
    "#last match that each country played\n",
    "defense   = defense .sort_values(['team', 'date'], ascending=[True, False])\n",
    "defense ['row_number'] = defense .groupby('team').cumcount()+1\n",
    "defense_top = defense [offense ['row_number']==1].drop('row_number',axis=1).nlargest(10, 'defense_score')\n",
    "\n",
    "# Let's see top 10 strongest defense team\n",
    "defense_top"
   ]
  },
  {
   "cell_type": "code",
   "execution_count": 8,
   "id": "4ffe0495",
   "metadata": {},
   "outputs": [
    {
     "data": {
      "image/png": "[encoded data removed]",
      "text/plain": [
       "<Figure size 720x432 with 1 Axes>"
      ]
     },
     "metadata": {
      "needs_background": "light"
     },
     "output_type": "display_data"
    }
   ],
   "source": [
    "#plot the teams with the strongest defense players\n",
    "fig, axes = plt.subplots(1,1,  figsize=(10, 6))\n",
    "ax = sns.barplot(data = defense_top, y = 'team', x = 'defense_score', orientation = 'horizontal', color = \"#66C8D5\")\n",
    "ax.set_title ('Teams with the strongest defense team', fontsize = 15)\n",
    "ax.set(xlabel = '', ylabel = '')\n",
    "\n",
    "plt.show()"
   ]
  },
  {
   "cell_type": "markdown",
   "id": "0184f978",
   "metadata": {},
   "source": [
    "<img src = 'Image/spain_team.png' >"
   ]
  },
  {
   "cell_type": "code",
   "execution_count": 14,
   "id": "2a038619",
   "metadata": {},
   "outputs": [
    {
     "name": "stderr",
     "output_type": "stream",
     "text": [
      "C:\\Users\\prava\\AppData\\Local\\Temp\\ipykernel_10676\\2240408211.py:4: FutureWarning: The frame.append method is deprecated and will be removed from pandas in a future version. Use pandas.concat instead.\n",
      "  midfiled  = home.append(away)\n"
     ]
    },
    {
     "data": {
      "text/html": [
       "<div>\n",
       "<style scoped>\n",
       "    .dataframe tbody tr th:only-of-type {\n",
       "        vertical-align: middle;\n",
       "    }\n",
       "\n",
       "    .dataframe tbody tr th {\n",
       "        vertical-align: top;\n",
       "    }\n",
       "\n",
       "    .dataframe thead th {\n",
       "        text-align: right;\n",
       "    }\n",
       "</style>\n",
       "<table border=\"1\" class=\"dataframe\">\n",
       "  <thead>\n",
       "    <tr style=\"text-align: right;\">\n",
       "      <th></th>\n",
       "      <th>date</th>\n",
       "      <th>team</th>\n",
       "      <th>midfield_score</th>\n",
       "    </tr>\n",
       "  </thead>\n",
       "  <tbody>\n",
       "    <tr>\n",
       "      <th>23907</th>\n",
       "      <td>2022-06-14</td>\n",
       "      <td>Germany</td>\n",
       "      <td>87.8</td>\n",
       "    </tr>\n",
       "    <tr>\n",
       "      <th>23885</th>\n",
       "      <td>2022-06-13</td>\n",
       "      <td>France</td>\n",
       "      <td>86.8</td>\n",
       "    </tr>\n",
       "    <tr>\n",
       "      <th>23866</th>\n",
       "      <td>2022-06-12</td>\n",
       "      <td>Spain</td>\n",
       "      <td>86.0</td>\n",
       "    </tr>\n",
       "    <tr>\n",
       "      <th>23909</th>\n",
       "      <td>2022-06-14</td>\n",
       "      <td>Belgium</td>\n",
       "      <td>85.5</td>\n",
       "    </tr>\n",
       "    <tr>\n",
       "      <th>23760</th>\n",
       "      <td>2022-06-06</td>\n",
       "      <td>Brazil</td>\n",
       "      <td>85.5</td>\n",
       "    </tr>\n",
       "    <tr>\n",
       "      <th>23907</th>\n",
       "      <td>2022-06-14</td>\n",
       "      <td>Italy</td>\n",
       "      <td>84.5</td>\n",
       "    </tr>\n",
       "    <tr>\n",
       "      <th>23867</th>\n",
       "      <td>2022-06-12</td>\n",
       "      <td>Portugal</td>\n",
       "      <td>84.5</td>\n",
       "    </tr>\n",
       "    <tr>\n",
       "      <th>23885</th>\n",
       "      <td>2022-06-13</td>\n",
       "      <td>Croatia</td>\n",
       "      <td>84.2</td>\n",
       "    </tr>\n",
       "    <tr>\n",
       "      <th>23741</th>\n",
       "      <td>2022-06-05</td>\n",
       "      <td>Argentina</td>\n",
       "      <td>84.0</td>\n",
       "    </tr>\n",
       "    <tr>\n",
       "      <th>23906</th>\n",
       "      <td>2022-06-14</td>\n",
       "      <td>England</td>\n",
       "      <td>84.0</td>\n",
       "    </tr>\n",
       "  </tbody>\n",
       "</table>\n",
       "</div>"
      ],
      "text/plain": [
       "            date       team  midfield_score\n",
       "23907 2022-06-14    Germany            87.8\n",
       "23885 2022-06-13     France            86.8\n",
       "23866 2022-06-12      Spain            86.0\n",
       "23909 2022-06-14    Belgium            85.5\n",
       "23760 2022-06-06     Brazil            85.5\n",
       "23907 2022-06-14      Italy            84.5\n",
       "23867 2022-06-12   Portugal            84.5\n",
       "23885 2022-06-13    Croatia            84.2\n",
       "23741 2022-06-05  Argentina            84.0\n",
       "23906 2022-06-14    England            84.0"
      ]
     },
     "execution_count": 14,
     "metadata": {},
     "output_type": "execute_result"
    }
   ],
   "source": [
    "midfiled = df[['date', 'home_team', 'away_team', 'home_team_mean_midfield_score', 'away_team_mean_midfield_score']]\n",
    "home = midfiled [['date', 'home_team','home_team_mean_midfield_score']].rename(columns = {'home_team': 'team', 'home_team_mean_midfield_score' : 'midfield_score'})\n",
    "away = midfiled [['date', 'away_team','away_team_mean_midfield_score']].rename(columns = {'away_team': 'team', 'away_team_mean_midfield_score' : 'midfield_score'})\n",
    "midfiled  = home.append(away)\n",
    "# offense\n",
    "#last match that each country played\n",
    "midfiled   = midfiled .sort_values(['team', 'date'], ascending=[True, False])\n",
    "midfiled ['row_number'] = defense .groupby('team').cumcount()+1\n",
    "midfield_top = midfiled [offense ['row_number']==1].drop('row_number',axis=1).nlargest(10, 'midfield_score')\n",
    "\n",
    "# Lets's see the top 10 strongest midfiled team\n",
    "midfield_top"
   ]
  },
  {
   "cell_type": "code",
   "execution_count": 15,
   "id": "7f2f6e7b",
   "metadata": {},
   "outputs": [
    {
     "data": {
      "image/png": "[encoded data removed]",
      "text/plain": [
       "<Figure size 720x432 with 1 Axes>"
      ]
     },
     "metadata": {
      "needs_background": "light"
     },
     "output_type": "display_data"
    }
   ],
   "source": [
    "#plot the teams with the strongest midfield players\n",
    "fig, axes = plt.subplots(1,1,  figsize=(10, 6))\n",
    "ax = sns.barplot(data = midfield_top, y = 'team', x = 'midfield_score', orientation = 'horizontal', color = \"#66C8D5\")\n",
    "ax.set_title ('Teams with the strongest midfield teams', fontsize = 15)\n",
    "ax.set(xlabel = '', ylabel = '')\n",
    "\n",
    "plt.show()"
   ]
  },
  {
   "cell_type": "markdown",
   "id": "1e257335",
   "metadata": {},
   "source": [
    "<img src = 'Image/germany_team.png' >"
   ]
  },
  {
   "cell_type": "markdown",
   "id": "be1bbab4",
   "metadata": {},
   "source": [
    "## How well does the strength of both teams correlate with the result of the match?"
   ]
  },
  {
   "cell_type": "code",
   "execution_count": null,
   "id": "ee9b1f81",
   "metadata": {},
   "outputs": [],
   "source": [
    "#lets create some new features \n",
    "\n",
    "#numerical column for match result\n",
    "df['match_result'] = np.where(df['home_team_result']=='Win', 2, \n",
    "                         np.where(df['home_team_result']=='Draw', 1, 0))\n",
    "\n",
    "#fifa rank delta of home and away team (higher values indicate that home team is stronger than away team)\n",
    "df['fifa_rank_delta'] = df['away_team_fifa_rank'] - df ['home_team_fifa_rank']\n",
    "\n",
    "#offense home team vs defense away team (higher values indicate that home team offense is stronger than away team defense)\n",
    "df['offense/defense_ratio'] = df['home_team_mean_offense_score'] / df['away_team_mean_defense_score']"
   ]
  },
  {
   "cell_type": "code",
   "execution_count": 16,
   "id": "40cbf385",
   "metadata": {},
   "outputs": [
    {
     "name": "stderr",
     "output_type": "stream",
     "text": [
      "C:\\Users\\prava\\AppData\\Local\\Temp\\ipykernel_10676\\3911243426.py:2: FutureWarning: The default value of numeric_only in DataFrame.corr is deprecated. In a future version, it will default to False. Select only valid columns or specify the value of numeric_only to silence this warning.\n",
      "  corr_mean = df.drop(['home_team_total_fifa_points', 'away_team_total_fifa_points', 'neutral_location'],axis=1).corr(method = 'pearson')\n"
     ]
    },
    {
     "data": {
      "image/png": "[encoded data removed]",
      "text/plain": [
       "<Figure size 864x576 with 2 Axes>"
      ]
     },
     "metadata": {
      "needs_background": "light"
     },
     "output_type": "display_data"
    }
   ],
   "source": [
    "# Create the correlation matrix\n",
    "corr_mean = df.drop(['home_team_total_fifa_points', 'away_team_total_fifa_points', 'neutral_location'],axis=1).corr(method = 'pearson')\n",
    "\n",
    "#create a mask for the upper triangle\n",
    "mask = np.triu(np.ones_like(corr_mean, dtype=bool))\n",
    "\n",
    "# Add the mask to the heatmap\n",
    "fig, ax = plt.subplots(figsize=(12,8)) \n",
    "ax = sns.heatmap(corr_mean, mask=mask, cmap= \"RdYlGn\", center=0, linewidths=1, annot=True, fmt=\".2f\")\n",
    "# ax.set_xticklabels(ax.get_xticklabels(), rotation=45)\n",
    "# ax.set_yticklabels(ax.get_xticklabels(), rotation=45)\n",
    "plt.show()"
   ]
  },
  {
   "cell_type": "code",
   "execution_count": null,
   "id": "a417ddfd",
   "metadata": {},
   "outputs": [],
   "source": []
  }
 ],
 "metadata": {
  "kernelspec": {
   "display_name": "Python 3 (ipykernel)",
   "language": "python",
   "name": "python3"
  },
  "language_info": {
   "codemirror_mode": {
    "name": "ipython",
    "version": 3
   },
   "file_extension": ".py",
   "mimetype": "text/x-python",
   "name": "python",
   "nbconvert_exporter": "python",
   "pygments_lexer": "ipython3",
   "version": "3.10.5"
  }
 },
 "nbformat": 4,
 "nbformat_minor": 5
}
